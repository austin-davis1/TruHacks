{
  "cells": [
    {
      "cell_type": "markdown",
      "metadata": {},
      "source": [
        "# Predicting Dengue Cases in Manila, Philippines\n",
        "\n",
        "Dengue Fever is an illness that primarily appears in tropical areas. It can be life threatening if not treated. Possible symptoms include flu symptoms, bleeding, and drop in blood pressure. \n",
        "\n",
        "Over a million cases of dengue infection happen yearly in the world. Using a dataset on dengue in Manila, Phillippines, we will create a model to predict outbreaks of dengue with the weather. Mosquito populations are dependent on the weather, such as temperature, humidity, and precipitation. Our model creates these to predict dengue outbreaks with a fair amount of accuracy.\n",
        "\n",
        "Ending the epidemics of tropical diseases is part of UN Sustainable Development Goal 3.3. This goal focuses on ending epidemics like AIDS, tuberculousis, and communicable diseases. Our model could be used by local governments and relief groups to help plan disease response teams. Predicting the location of disease outbreaks are vital to providing aid in a timely matter. \n",
        "\n",
        "Sources: [Mayo Clinic](https://www.mayoclinic.org/diseases-conditions/dengue-fever/symptoms-causes/syc-20353078)"
      ]
    },
    {
      "cell_type": "code",
      "execution_count": 1,
      "metadata": {
        "id": "TlGRuxLWLgr0"
      },
      "outputs": [],
      "source": [
        "import pandas as pd\n",
        "import numpy as np\n",
        "from sklearn.model_selection import train_test_split\n",
        "from sklearn.metrics import confusion_matrix, ConfusionMatrixDisplay\n",
        "from sklearn import metrics\n",
        "from sklearn.ensemble import RandomForestClassifier"
      ]
    },
    {
      "cell_type": "markdown",
      "metadata": {},
      "source": [
        "# Importing Data\n",
        "\n",
        "The Manila Dengue Case Data was obtained from an [official Philippines Government Source](https://www.foi.gov.ph/requests/daily-number-of-dengue-cases-in-the-city-of-manila-from-2018-2023/) This data includes daily reports of new dengue cases in Manila from 2018 to December, 2, 2023.\n",
        "\n",
        "The weather data was obtained from [www.visualcrossing.com](https://www.visualcrossing.com/)\n",
        "\n",
        "We did some manipulation in Excel to format the CSV files.\n",
        "The Manila Dengue Case data does not include a row entry when there are no reported cases for a given day. We will do some cleaning to add these dates for our analysis.\n"
      ]
    },
    {
      "cell_type": "code",
      "execution_count": 2,
      "metadata": {
        "colab": {
          "base_uri": "https://localhost:8080/",
          "height": 111
        },
        "id": "Opc3OdOc7oiZ",
        "outputId": "6854a50e-ba47-4160-a3b2-dfc41c173883"
      },
      "outputs": [],
      "source": [
        "# Read the file with weather data\n",
        "weather_df = pd.read_csv(\"manila_weather.csv\")\n",
        "\n",
        "# Load Manila dengue cases file in\n",
        "manila_df = pd.read_csv(\"Dengue_Manila_2_Columns.csv\")"
      ]
    },
    {
      "cell_type": "code",
      "execution_count": 3,
      "metadata": {
        "id": "Wbc9mDVtcdPG"
      },
      "outputs": [],
      "source": [
        "# Cleaning Manila Dengue Case File\n",
        "\n",
        "# Extract neccessary columns and Rename\n",
        "manila_df = manila_df[[\"MM/DD/YYYY\", \"Cases\"]]\n",
        "manila_df.rename(columns={\"MM/DD/YYYY\": \"Date\"}, inplace=True)\n",
        "# Convert string Date into DateTime object\n",
        "manila_df[\"Date\"] = pd.to_datetime(manila_df[\"Date\"], format='%Y-%m-%d')\n",
        "\n",
        "# For any date with zero cases in manila dataset, the date is not listed\n",
        "# This section adds in the missing dates with Cases = 0\n",
        "\n",
        "# First, we will create another dataframe with every date within the range of the dataset\n",
        "\n",
        "# Create list of DateTimes with every date in the range of our data\n",
        "all_dates = pd.date_range(start=\"01-01-2018\", end=\"12-2-2023\")\n",
        "# Convert to dataframe\n",
        "full_dates_df = pd.DataFrame(data = {\"Date\": all_dates})\n",
        "\n",
        "# Merge the Data Frames together\n",
        "# Any empty dates are left with a null value\n",
        "merged_df = full_dates_df.merge(manila_df, on=\"Date\", how = \"left\")\n",
        "# Replace null Cases with the value 0\n",
        "merged_df[\"Cases\"] = merged_df[\"Cases\"].fillna(0)\n",
        "# Type cast Cases to int, since they are discrete and were changed implicilty in an earlier step\n",
        "merged_df[\"Cases\"] = merged_df[\"Cases\"].astype(int)\n",
        "# Dataset is clean, now we can save it for future use\n",
        "#clean_manila = merged_df\n",
        "#clean_manila.to_csv('clean_manila.csv', index=False)\n",
        "\n",
        "case_df = merged_df\n"
      ]
    },
    {
      "cell_type": "code",
      "execution_count": 4,
      "metadata": {
        "id": "0PFbP6uGa7ly"
      },
      "outputs": [],
      "source": [
        "# Rename date column in weather_df\n",
        "weather_df.rename(columns = {\"datetime\":\"Date\"}, inplace=True)\n",
        "# Convert string Date into DateTime object\n",
        "weather_df[\"Date\"] = pd.to_datetime(weather_df[\"Date\"], format='%Y-%m-%d')"
      ]
    },
    {
      "cell_type": "code",
      "execution_count": 5,
      "metadata": {
        "id": "SfVoPQ1cHRl4"
      },
      "outputs": [],
      "source": [
        "# Converting daily data to weekly data\n",
        "\n",
        "# These are a aggregation functions\n",
        "# For temperature and humidity, we will take the average for the week\n",
        "# For cases and precipitation, we will take the sum for the week\n",
        "weather_aggregation_functions = {\n",
        "    'temp': \"mean\",\n",
        "    'humidity': \"mean\",\n",
        "    \"precip\": 'sum'\n",
        "}\n",
        "\n",
        "case_aggregation_functions = {\n",
        "    \"Cases\": \"sum\",\n",
        "}\n",
        "\n",
        "weather_df_copy = weather_df.copy()\n",
        "\n",
        "# Aggregate data from days to weeks\n",
        "\n",
        "# Set index to our Date so we can use aggregate function\n",
        "# Aggregate Weather data\n",
        "weather_df_copy.set_index('Date', inplace = True)\n",
        "weekly_data = weather_df_copy.resample('W').agg(weather_aggregation_functions)\n",
        "weekly_data = weekly_data.reset_index()\n",
        "weather_df = weekly_data.copy()\n",
        "\n",
        "case_df_copy = case_df.copy()\n",
        "# Aggregate Case data\n",
        "case_df_copy.set_index('Date', inplace = True)\n",
        "weekly_data = case_df_copy.resample('W').agg(case_aggregation_functions)\n",
        "weekly_data = weekly_data.reset_index()\n",
        "case_df = weekly_data.copy()"
      ]
    },
    {
      "cell_type": "code",
      "execution_count": 6,
      "metadata": {
        "id": "4nBn_8Rsailu"
      },
      "outputs": [
        {
          "data": {
            "text/html": [
              "<div>\n",
              "<style scoped>\n",
              "    .dataframe tbody tr th:only-of-type {\n",
              "        vertical-align: middle;\n",
              "    }\n",
              "\n",
              "    .dataframe tbody tr th {\n",
              "        vertical-align: top;\n",
              "    }\n",
              "\n",
              "    .dataframe thead th {\n",
              "        text-align: right;\n",
              "    }\n",
              "</style>\n",
              "<table border=\"1\" class=\"dataframe\">\n",
              "  <thead>\n",
              "    <tr style=\"text-align: right;\">\n",
              "      <th></th>\n",
              "      <th>Date</th>\n",
              "      <th>temp</th>\n",
              "      <th>humidity</th>\n",
              "      <th>precip</th>\n",
              "      <th>Cases</th>\n",
              "      <th>Next_week_cases</th>\n",
              "    </tr>\n",
              "  </thead>\n",
              "  <tbody>\n",
              "    <tr>\n",
              "      <th>0</th>\n",
              "      <td>2018-01-07</td>\n",
              "      <td>27.385714</td>\n",
              "      <td>73.757143</td>\n",
              "      <td>0.295</td>\n",
              "      <td>60</td>\n",
              "      <td>72.0</td>\n",
              "    </tr>\n",
              "    <tr>\n",
              "      <th>1</th>\n",
              "      <td>2018-01-14</td>\n",
              "      <td>27.328571</td>\n",
              "      <td>70.571429</td>\n",
              "      <td>1.263</td>\n",
              "      <td>72</td>\n",
              "      <td>84.0</td>\n",
              "    </tr>\n",
              "    <tr>\n",
              "      <th>2</th>\n",
              "      <td>2018-01-21</td>\n",
              "      <td>26.957143</td>\n",
              "      <td>78.114286</td>\n",
              "      <td>10.137</td>\n",
              "      <td>84</td>\n",
              "      <td>62.0</td>\n",
              "    </tr>\n",
              "    <tr>\n",
              "      <th>3</th>\n",
              "      <td>2018-01-28</td>\n",
              "      <td>27.000000</td>\n",
              "      <td>82.957143</td>\n",
              "      <td>9.074</td>\n",
              "      <td>62</td>\n",
              "      <td>82.0</td>\n",
              "    </tr>\n",
              "    <tr>\n",
              "      <th>4</th>\n",
              "      <td>2018-02-04</td>\n",
              "      <td>26.871429</td>\n",
              "      <td>76.614286</td>\n",
              "      <td>0.341</td>\n",
              "      <td>82</td>\n",
              "      <td>63.0</td>\n",
              "    </tr>\n",
              "  </tbody>\n",
              "</table>\n",
              "</div>"
            ],
            "text/plain": [
              "        Date       temp   humidity  precip  Cases  Next_week_cases\n",
              "0 2018-01-07  27.385714  73.757143   0.295     60             72.0\n",
              "1 2018-01-14  27.328571  70.571429   1.263     72             84.0\n",
              "2 2018-01-21  26.957143  78.114286  10.137     84             62.0\n",
              "3 2018-01-28  27.000000  82.957143   9.074     62             82.0\n",
              "4 2018-02-04  26.871429  76.614286   0.341     82             63.0"
            ]
          },
          "execution_count": 6,
          "metadata": {},
          "output_type": "execute_result"
        }
      ],
      "source": [
        "# Join the Case data and Weather datasets together on the Week\n",
        "df = pd.merge(weather_df, case_df, on=\"Date\", how=\"inner\")\n",
        "\n",
        "# Now, we will create a column for next week's cases\n",
        "# This is necessary as dengue has an incubation time of 5-7 days\n",
        "# This means are cases can't be measured until almost a week after a patient receives the dengue virus\n",
        "df['Next_week_cases'] = df['Cases'].shift(-1)\n",
        "df.head()"
      ]
    },
    {
      "cell_type": "markdown",
      "metadata": {},
      "source": [
        "# Predicting Outbreaks\n",
        "\n",
        "We classify a Dengue outbreak as there being more than the average amount of cases. This ends up being 48 or more cases in Manila."
      ]
    },
    {
      "cell_type": "code",
      "execution_count": 7,
      "metadata": {
        "colab": {
          "base_uri": "https://localhost:8080/"
        },
        "id": "prxJVdZsMPmb",
        "outputId": "0dc2d6db-5a80-4682-e047-5ec3eab41f9b"
      },
      "outputs": [
        {
          "name": "stdout",
          "output_type": "stream",
          "text": [
            "Outbreak Threshold (Weekly Cases): 47.32142857142857\n",
            "Number of Outbreaks: 110\n",
            "Total Weeks: 309\n"
          ]
        }
      ],
      "source": [
        "# Here we create the outbreak threshold\n",
        "# The \n",
        "outbreak_threshold = df.describe()['Next_week_cases']['mean']\n",
        "df['outbreak'] = df['Next_week_cases'] > outbreak_threshold\n",
        "print(\"Outbreak Threshold (Weekly Cases): \" + str(outbreak_threshold))\n",
        "print(\"Number of Outbreaks: \" + str(len(df[df['outbreak']==True])))\n",
        "print(\"Total Weeks: \" + str(len(df)))"
      ]
    },
    {
      "cell_type": "markdown",
      "metadata": {
        "id": "U14BzUOszPeh"
      },
      "source": [
        "# The Model\n",
        "\n",
        "### Independent variables.\n",
        "\n",
        "Dengue is primarily spread through mosquito bites. Our weather data includes factors that affect the mosquito population.\n",
        "\n",
        "1. Humidity: High humidity levels are known to facilitate mosquito breeding by maintaining suitable moisture levels for egg development.\n",
        "2. Precipitation: Rainfall creates breeding sites by filling containers and other water-holding structures where mosquitoes lay their eggs.\n",
        "8. Temperature: Temperature influences the development rate of mosquito eggs, larvae, and pupae. Higher temperatures generally accelerate their growth and shorten the time it takes for mosquitoes to mature and reproduce.\n",
        "\n",
        "### General Explanation\n",
        "\n",
        "Our model used the above weather from the week before. It is important to use weather data from the week before because the dengue virus has an incubation time. If we used the weather of the week, the data would be outdated as the cases wouldn't be recorded until the next week.\n",
        "\n",
        "Another feature used is the cases of the week before. If the Dengue virus is active the week before, it is more likely to spread.\n",
        "\n",
        "The model used is a Random Forest. Random Forests create many decision trees that create classifications of a variable, in this case whether or not there is an outbreak. These trees are combined into a big one that becomes the model. This is a powerful machine learning algorithm."
      ]
    },
    {
      "cell_type": "code",
      "execution_count": 8,
      "metadata": {
        "colab": {
          "base_uri": "https://localhost:8080/"
        },
        "id": "Gs1Cc1nZYRWZ",
        "outputId": "278c1728-ecb0-48db-de8e-16281cc6ea3b"
      },
      "outputs": [
        {
          "name": "stdout",
          "output_type": "stream",
          "text": [
            "[[36  2]\n",
            " [ 3 21]]\n",
            "Accuracy: 0.9193548387096774\n"
          ]
        }
      ],
      "source": [
        "# https://towardsdatascience.com/random-forest-in-python-24d0893d51c0\n",
        "rf = RandomForestClassifier(n_estimators = 1000, random_state = 432)\n",
        "\n",
        "X = df[[\"temp\", \"humidity\", \"precip\", \"Cases\"]]\n",
        "y = df['outbreak']\n",
        "\n",
        "X_train, X_test, y_train, y_test = train_test_split(X, y, test_size=0.2, random_state=45)\n",
        "\n",
        "# Train the model on the training data\n",
        "rf.fit(X_train, y_train)\n",
        "\n",
        "# Make predictions on the test data\n",
        "y_pred = rf.predict(X_test)\n",
        "\n",
        "# https://www.w3schools.com/python/python_ml_confusion_matrix.asp\n",
        "conf_matrix = confusion_matrix(y_test, y_pred)\n",
        "print(conf_matrix)\n",
        "\n",
        "Accuracy = metrics.accuracy_score(y_test, y_pred) \n",
        "print(\"Accuracy: \"+ str(Accuracy))\n"
      ]
    },
    {
      "cell_type": "markdown",
      "metadata": {},
      "source": [
        "## Evaluating the Model\n",
        "\n",
        "The model can be judged by its Confusion Matrix. This matrix shows the 21 True Positives, 36 True Negatives, 2 False Positives, and 3 False Negatives. This gives us just under 92% accuracy, which means the model is effective at predicting outbreaks.\n",
        "\n",
        "When creating the model, we split the data into training set and a testing set. The model is trained on the training set. The testing set is used to test the model on unseen data, which allows us to judge the model on how it deals with new data. This also allows us to test for overfitting, which is when the model works very well on the training data, but not any other data. Our model generalizes well to new data.\n",
        "\n",
        "With this model, future weather forecasets could be used to predict upcoming dengue outbreaks in Manila. Our outbreak prediction model should only be used in Manila, but similar models can be created for other cities and regions. These would help local governments respond and prepare for dengue cases and help end the dengue virus. This would help fulfill UN Sustainable Development Goal 3.3."
      ]
    }
  ],
  "metadata": {
    "colab": {
      "provenance": []
    },
    "kernelspec": {
      "display_name": "Python 3",
      "name": "python3"
    },
    "language_info": {
      "codemirror_mode": {
        "name": "ipython",
        "version": 3
      },
      "file_extension": ".py",
      "mimetype": "text/x-python",
      "name": "python",
      "nbconvert_exporter": "python",
      "pygments_lexer": "ipython3",
      "version": "3.12.0"
    }
  },
  "nbformat": 4,
  "nbformat_minor": 0
}
